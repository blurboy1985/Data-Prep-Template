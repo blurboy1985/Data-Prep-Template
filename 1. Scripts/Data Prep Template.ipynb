{
 "cells": [
  {
   "cell_type": "markdown",
   "metadata": {},
   "source": [
    "# ││ Import Libraries\n",
    "\n",
    "```\n",
    "import pandas as pd\n",
    "import numpy as np\n",
    "import seaborn as sns\n",
    "```"
   ]
  },
  {
   "cell_type": "code",
   "execution_count": null,
   "metadata": {},
   "outputs": [],
   "source": []
  },
  {
   "cell_type": "markdown",
   "metadata": {},
   "source": [
    "# ││ Set Up Paths to Data\n",
    "\n",
    "```\n",
    "For Windows >>>\n",
    "SOURCE = '..\\\\0. Raw Data\\\\<name of file and extension>'\n",
    "OUTPUT = '..\\\\2. Processed Data\\\\<name of file and extension>'\n",
    "\n",
    "For Mac >>>\n",
    "SOURCE = '..//0. Raw Data//<name of file and extension>'\n",
    "OUTPUT = '..//2. Processed Data//<name of file and extension>'\n",
    "\n",
    "Note that this style assumes a structure as such:\n",
    "\n",
    "Project Folder\n",
    "   |---- 0. Raw Data\n",
    "   |---- 1. Scripts <-- This is where this Jupyter Notebook is saved at\n",
    "   |---- 2. Processed Data\n",
    "```"
   ]
  },
  {
   "cell_type": "code",
   "execution_count": null,
   "metadata": {},
   "outputs": [],
   "source": []
  },
  {
   "cell_type": "markdown",
   "metadata": {},
   "source": [
    "# ││ Read in Data Files And Clean The Headers\n",
    "\n",
    "```\n",
    "df = pd.read_excel(SOURCE, sheet_name='Sheet1') \n",
    "df = pd.read_csv(SOURCE)\n",
    "\n",
    "#Refer to function in the Annex below to clean the headers.\n",
    "\n",
    "#View data\n",
    "df.head()\n",
    "df.tail()\n",
    "print(df.shape)\n",
    "```"
   ]
  },
  {
   "cell_type": "code",
   "execution_count": null,
   "metadata": {},
   "outputs": [],
   "source": []
  },
  {
   "cell_type": "markdown",
   "metadata": {},
   "source": [
    "# ││ Merge / Concatenate The Datasets\n",
    "\n",
    "```\n",
    "df = pd.concat([df1,df2,df3])\n",
    "df = pd.merge(df1, df2, how='left', left_on = 'key1', right_on = 'key2')  #merge on left_on for df1, right_on for df2\n",
    "df = pd.merge(df1, df2, how='inner', on=['key1', 'key2']) #merge on two keys\n",
    "\n",
    "#Note: Always run a .shape after merging to ensure the merging happened as you expected.\n",
    "```"
   ]
  },
  {
   "cell_type": "code",
   "execution_count": null,
   "metadata": {},
   "outputs": [],
   "source": []
  },
  {
   "cell_type": "markdown",
   "metadata": {},
   "source": [
    "# ││ Explore the Dataset \n",
    "\n",
    "```\n",
    "print(df.shape)\n",
    "df.describe()\n",
    "df.info()\n",
    "df[<col name>].unique()\n",
    "```"
   ]
  },
  {
   "cell_type": "code",
   "execution_count": null,
   "metadata": {},
   "outputs": [],
   "source": []
  },
  {
   "cell_type": "markdown",
   "metadata": {},
   "source": [
    "# ││ Perform Feature Engineering\n",
    "\n",
    "```\n",
    "def <name of func>(row):\n",
    "    x = ...\n",
    "    return x\n",
    "\n",
    "df['<name of new column>'] = df.apply(<name of func>, axis=1)\n",
    "```"
   ]
  },
  {
   "cell_type": "code",
   "execution_count": null,
   "metadata": {},
   "outputs": [],
   "source": []
  },
  {
   "cell_type": "markdown",
   "metadata": {},
   "source": [
    "# ││ Drop Unwanted Columns\n",
    "```\n",
    "df = df.drop(<list of columns>, axis=1)\n",
    "```"
   ]
  },
  {
   "cell_type": "code",
   "execution_count": null,
   "metadata": {},
   "outputs": [],
   "source": []
  },
  {
   "cell_type": "markdown",
   "metadata": {},
   "source": [
    "# ││ Reorder or Rename Your Columns\n",
    "\n",
    "```\n",
    "# Do a df.columns first to get a list of column headers. \n",
    "# Then copy and paste the output into a cell to easily reorder them.\n",
    "\n",
    "df = df[\n",
    "    [\n",
    "        <1st column name>,\n",
    "        <2nd column name>,\n",
    "        <3rd column name>,\n",
    "        ...\n",
    "    ]\n",
    "]\n",
    "```"
   ]
  },
  {
   "cell_type": "code",
   "execution_count": null,
   "metadata": {},
   "outputs": [],
   "source": []
  },
  {
   "cell_type": "markdown",
   "metadata": {},
   "source": [
    "# ││ Output Final File\n",
    "\n",
    "```\n",
    "df.to_csv(OUTPUT, index=False)\n",
    "```"
   ]
  },
  {
   "cell_type": "code",
   "execution_count": null,
   "metadata": {},
   "outputs": [],
   "source": []
  },
  {
   "cell_type": "markdown",
   "metadata": {},
   "source": [
    "# ││ ANNEX of useful functions"
   ]
  },
  {
   "cell_type": "code",
   "execution_count": null,
   "metadata": {},
   "outputs": [],
   "source": [
    "#read in files that start with the data on row 3, use header = 3-1 which is 2\n",
    "#-----------------------------------------\n",
    "# df = pd.read_excel(SOURCE, sheet_name='Sheet1', header=2)"
   ]
  },
  {
   "cell_type": "code",
   "execution_count": null,
   "metadata": {},
   "outputs": [],
   "source": [
    "#read in files where you want to specify exactly what data type the column is\n",
    "#-----------------------------------------\n",
    "#np.float for decimal values\n",
    "#np.int32 for integers\n",
    "#object for strings\n",
    "\n",
    "# df = pd.read_excel(SOURCE, sheet_name='Sheet1', dtype = {'col name': np.float64 | np.int32 | object})"
   ]
  },
  {
   "cell_type": "code",
   "execution_count": null,
   "metadata": {},
   "outputs": [],
   "source": [
    "#Trim and format headers\n",
    "#-----------------------------------------\n",
    "# def clean_headers(headers):\n",
    "#     newheaders = []\n",
    "\n",
    "#     for i in headers:\n",
    "#         l = i.strip()\n",
    "#         l = l.lower()\n",
    "#         l = l.replace(' ','_')\n",
    "#         newheaders.append(l)\n",
    "\n",
    "#     return newheaders\n",
    "\n",
    "# df.columns = clean_headers(df.columns)"
   ]
  },
  {
   "cell_type": "code",
   "execution_count": null,
   "metadata": {},
   "outputs": [],
   "source": [
    "#create a new column and set a value to it\n",
    "#-----------------------------------------\n",
    "# df[<new col name>] = <new value>"
   ]
  },
  {
   "cell_type": "code",
   "execution_count": null,
   "metadata": {},
   "outputs": [],
   "source": [
    "#drop duplicates\n",
    "#---------------\n",
    "# df = df.drop_duplicates(subset = <list of column names>, keep = <'last' | 'first')"
   ]
  },
  {
   "cell_type": "code",
   "execution_count": null,
   "metadata": {},
   "outputs": [],
   "source": [
    "#split a column into 2\n",
    "#----------------------\n",
    "# df[<col name 1>] , df[<col name 2>] = df[<col name to be splitted up>].str.split(<split token>,1).str"
   ]
  },
  {
   "cell_type": "code",
   "execution_count": null,
   "metadata": {},
   "outputs": [],
   "source": [
    "#Extract a dataframe with null rows\n",
    "#----------------------------------\n",
    "# df[ df['user_id'].isnull()]"
   ]
  },
  {
   "cell_type": "code",
   "execution_count": null,
   "metadata": {},
   "outputs": [],
   "source": [
    "#Sort the dataframe\n",
    "#------------------\n",
    "# df.sort_values(by=['col1', 'col2'], ascending=True)"
   ]
  },
  {
   "cell_type": "code",
   "execution_count": null,
   "metadata": {},
   "outputs": [],
   "source": [
    "#Groupby\n",
    "#--------\n",
    "# df.groupby(['col1']).sum()\n",
    "# df.groupby(['col1']).mean()\n",
    "# df.groupby(['col1']).median()"
   ]
  },
  {
   "cell_type": "code",
   "execution_count": null,
   "metadata": {},
   "outputs": [],
   "source": [
    "#renaming columns\n",
    "#----------------------\n",
    "# df = df.rename(columns = {\n",
    "#     <original col name 1>: <new col name 1>,\n",
    "#     <original col name 2>: <new col name 2>,\n",
    "#     <original col name 3>: <new col name 3>,\n",
    "#     ...\n",
    "# })"
   ]
  }
 ],
 "metadata": {
  "kernelspec": {
   "display_name": "Python 3",
   "language": "python",
   "name": "python3"
  },
  "language_info": {
   "codemirror_mode": {
    "name": "ipython",
    "version": 3
   },
   "file_extension": ".py",
   "mimetype": "text/x-python",
   "name": "python",
   "nbconvert_exporter": "python",
   "pygments_lexer": "ipython3",
   "version": "3.7.7"
  }
 },
 "nbformat": 4,
 "nbformat_minor": 4
}
